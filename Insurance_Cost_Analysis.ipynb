{
  "nbformat": 4,
  "nbformat_minor": 0,
  "metadata": {
    "colab": {
      "provenance": [],
      "authorship_tag": "ABX9TyMTJcKTJ9Oz8r73dfT14fTZ",
      "include_colab_link": true
    },
    "kernelspec": {
      "name": "python3",
      "display_name": "Python 3"
    },
    "language_info": {
      "name": "python"
    }
  },
  "cells": [
    {
      "cell_type": "markdown",
      "metadata": {
        "id": "view-in-github",
        "colab_type": "text"
      },
      "source": [
        "<a href=\"https://colab.research.google.com/github/rashida3/projects/blob/main/Insurance_Cost_Analysis.ipynb\" target=\"_parent\"><img src=\"https://colab.research.google.com/assets/colab-badge.svg\" alt=\"Open In Colab\"/></a>"
      ]
    },
    {
      "cell_type": "markdown",
      "source": [
        "# **Project: Insurance Cost Analysis**\n",
        "\n",
        "In this project, I performed analytics operations on an insurance database that uses the below mentioned parameters.\n",
        "\n",
        "| Parameter |Description| Content type |\n",
        "|---|----|---|\n",
        "|age| Age in years| integer |\n",
        "|gender| Male or Female|integer (1 or 2)|\n",
        "| bmi | Body mass index | float |\n",
        "|no_of_children| Number of children | integer|\n",
        "|smoker| Whether smoker or not | integer (0 or 1)|\n",
        "|region| Which US region - NW, NE, SW, SE | integer (1,2,3 or 4 respectively)|\n",
        "|charges| Annual Insurance charges in USD | float|"
      ],
      "metadata": {
        "id": "_I2wwZVwg_8q"
      }
    },
    {
      "cell_type": "code",
      "execution_count": null,
      "metadata": {
        "id": "Jd-HunkQg8sB"
      },
      "outputs": [],
      "source": [
        "import pandas as pd\n",
        "import matplotlib.pyplot as plt\n",
        "import numpy as np\n",
        "import seaborn as sns\n",
        "from sklearn.pipeline import Pipeline\n",
        "from sklearn.preprocessing import StandardScaler, PolynomialFeatures\n",
        "from sklearn.linear_model import LinearRegression, Ridge\n",
        "from sklearn.metrics import mean_squared_error, r2_score\n",
        "from sklearn.model_selection import cross_val_score, train_test_split"
      ]
    },
    {
      "cell_type": "code",
      "source": [
        "from google.colab import files\n",
        "\n",
        "# Prompt the user to upload a file\n",
        "uploaded = files.upload()\n",
        "\n",
        "# Get the uploaded file\n",
        "file_name = list(uploaded.keys())[0]\n",
        "\n",
        "# Print the name of the uploaded file\n",
        "print(f'File \"{file_name}\" has been uploaded.')"
      ],
      "metadata": {
        "colab": {
          "base_uri": "https://localhost:8080/",
          "height": 90
        },
        "id": "lARpTb18hrDZ",
        "outputId": "12be603d-9b5f-40bd-a65d-13b7bbaa063e"
      },
      "execution_count": null,
      "outputs": [
        {
          "output_type": "display_data",
          "data": {
            "text/plain": [
              "<IPython.core.display.HTML object>"
            ],
            "text/html": [
              "\n",
              "     <input type=\"file\" id=\"files-d104f913-1c06-4133-bec1-b9c1f8c6514c\" name=\"files[]\" multiple disabled\n",
              "        style=\"border:none\" />\n",
              "     <output id=\"result-d104f913-1c06-4133-bec1-b9c1f8c6514c\">\n",
              "      Upload widget is only available when the cell has been executed in the\n",
              "      current browser session. Please rerun this cell to enable.\n",
              "      </output>\n",
              "      <script>// Copyright 2017 Google LLC\n",
              "//\n",
              "// Licensed under the Apache License, Version 2.0 (the \"License\");\n",
              "// you may not use this file except in compliance with the License.\n",
              "// You may obtain a copy of the License at\n",
              "//\n",
              "//      http://www.apache.org/licenses/LICENSE-2.0\n",
              "//\n",
              "// Unless required by applicable law or agreed to in writing, software\n",
              "// distributed under the License is distributed on an \"AS IS\" BASIS,\n",
              "// WITHOUT WARRANTIES OR CONDITIONS OF ANY KIND, either express or implied.\n",
              "// See the License for the specific language governing permissions and\n",
              "// limitations under the License.\n",
              "\n",
              "/**\n",
              " * @fileoverview Helpers for google.colab Python module.\n",
              " */\n",
              "(function(scope) {\n",
              "function span(text, styleAttributes = {}) {\n",
              "  const element = document.createElement('span');\n",
              "  element.textContent = text;\n",
              "  for (const key of Object.keys(styleAttributes)) {\n",
              "    element.style[key] = styleAttributes[key];\n",
              "  }\n",
              "  return element;\n",
              "}\n",
              "\n",
              "// Max number of bytes which will be uploaded at a time.\n",
              "const MAX_PAYLOAD_SIZE = 100 * 1024;\n",
              "\n",
              "function _uploadFiles(inputId, outputId) {\n",
              "  const steps = uploadFilesStep(inputId, outputId);\n",
              "  const outputElement = document.getElementById(outputId);\n",
              "  // Cache steps on the outputElement to make it available for the next call\n",
              "  // to uploadFilesContinue from Python.\n",
              "  outputElement.steps = steps;\n",
              "\n",
              "  return _uploadFilesContinue(outputId);\n",
              "}\n",
              "\n",
              "// This is roughly an async generator (not supported in the browser yet),\n",
              "// where there are multiple asynchronous steps and the Python side is going\n",
              "// to poll for completion of each step.\n",
              "// This uses a Promise to block the python side on completion of each step,\n",
              "// then passes the result of the previous step as the input to the next step.\n",
              "function _uploadFilesContinue(outputId) {\n",
              "  const outputElement = document.getElementById(outputId);\n",
              "  const steps = outputElement.steps;\n",
              "\n",
              "  const next = steps.next(outputElement.lastPromiseValue);\n",
              "  return Promise.resolve(next.value.promise).then((value) => {\n",
              "    // Cache the last promise value to make it available to the next\n",
              "    // step of the generator.\n",
              "    outputElement.lastPromiseValue = value;\n",
              "    return next.value.response;\n",
              "  });\n",
              "}\n",
              "\n",
              "/**\n",
              " * Generator function which is called between each async step of the upload\n",
              " * process.\n",
              " * @param {string} inputId Element ID of the input file picker element.\n",
              " * @param {string} outputId Element ID of the output display.\n",
              " * @return {!Iterable<!Object>} Iterable of next steps.\n",
              " */\n",
              "function* uploadFilesStep(inputId, outputId) {\n",
              "  const inputElement = document.getElementById(inputId);\n",
              "  inputElement.disabled = false;\n",
              "\n",
              "  const outputElement = document.getElementById(outputId);\n",
              "  outputElement.innerHTML = '';\n",
              "\n",
              "  const pickedPromise = new Promise((resolve) => {\n",
              "    inputElement.addEventListener('change', (e) => {\n",
              "      resolve(e.target.files);\n",
              "    });\n",
              "  });\n",
              "\n",
              "  const cancel = document.createElement('button');\n",
              "  inputElement.parentElement.appendChild(cancel);\n",
              "  cancel.textContent = 'Cancel upload';\n",
              "  const cancelPromise = new Promise((resolve) => {\n",
              "    cancel.onclick = () => {\n",
              "      resolve(null);\n",
              "    };\n",
              "  });\n",
              "\n",
              "  // Wait for the user to pick the files.\n",
              "  const files = yield {\n",
              "    promise: Promise.race([pickedPromise, cancelPromise]),\n",
              "    response: {\n",
              "      action: 'starting',\n",
              "    }\n",
              "  };\n",
              "\n",
              "  cancel.remove();\n",
              "\n",
              "  // Disable the input element since further picks are not allowed.\n",
              "  inputElement.disabled = true;\n",
              "\n",
              "  if (!files) {\n",
              "    return {\n",
              "      response: {\n",
              "        action: 'complete',\n",
              "      }\n",
              "    };\n",
              "  }\n",
              "\n",
              "  for (const file of files) {\n",
              "    const li = document.createElement('li');\n",
              "    li.append(span(file.name, {fontWeight: 'bold'}));\n",
              "    li.append(span(\n",
              "        `(${file.type || 'n/a'}) - ${file.size} bytes, ` +\n",
              "        `last modified: ${\n",
              "            file.lastModifiedDate ? file.lastModifiedDate.toLocaleDateString() :\n",
              "                                    'n/a'} - `));\n",
              "    const percent = span('0% done');\n",
              "    li.appendChild(percent);\n",
              "\n",
              "    outputElement.appendChild(li);\n",
              "\n",
              "    const fileDataPromise = new Promise((resolve) => {\n",
              "      const reader = new FileReader();\n",
              "      reader.onload = (e) => {\n",
              "        resolve(e.target.result);\n",
              "      };\n",
              "      reader.readAsArrayBuffer(file);\n",
              "    });\n",
              "    // Wait for the data to be ready.\n",
              "    let fileData = yield {\n",
              "      promise: fileDataPromise,\n",
              "      response: {\n",
              "        action: 'continue',\n",
              "      }\n",
              "    };\n",
              "\n",
              "    // Use a chunked sending to avoid message size limits. See b/62115660.\n",
              "    let position = 0;\n",
              "    do {\n",
              "      const length = Math.min(fileData.byteLength - position, MAX_PAYLOAD_SIZE);\n",
              "      const chunk = new Uint8Array(fileData, position, length);\n",
              "      position += length;\n",
              "\n",
              "      const base64 = btoa(String.fromCharCode.apply(null, chunk));\n",
              "      yield {\n",
              "        response: {\n",
              "          action: 'append',\n",
              "          file: file.name,\n",
              "          data: base64,\n",
              "        },\n",
              "      };\n",
              "\n",
              "      let percentDone = fileData.byteLength === 0 ?\n",
              "          100 :\n",
              "          Math.round((position / fileData.byteLength) * 100);\n",
              "      percent.textContent = `${percentDone}% done`;\n",
              "\n",
              "    } while (position < fileData.byteLength);\n",
              "  }\n",
              "\n",
              "  // All done.\n",
              "  yield {\n",
              "    response: {\n",
              "      action: 'complete',\n",
              "    }\n",
              "  };\n",
              "}\n",
              "\n",
              "scope.google = scope.google || {};\n",
              "scope.google.colab = scope.google.colab || {};\n",
              "scope.google.colab._files = {\n",
              "  _uploadFiles,\n",
              "  _uploadFilesContinue,\n",
              "};\n",
              "})(self);\n",
              "</script> "
            ]
          },
          "metadata": {}
        },
        {
          "output_type": "stream",
          "name": "stdout",
          "text": [
            "Saving medical_insurance_dataset.csv to medical_insurance_dataset.csv\n",
            "File \"medical_insurance_dataset.csv\" has been uploaded.\n"
          ]
        }
      ]
    },
    {
      "cell_type": "code",
      "source": [
        "filepath = 'https://cf-courses-data.s3.us.cloud-object-storage.appdomain.cloud/IBMDeveloperSkillsNetwork-DA0101EN-Coursera/medical_insurance_dataset.csv'"
      ],
      "metadata": {
        "id": "1jlBDujjiTJI"
      },
      "execution_count": null,
      "outputs": []
    },
    {
      "cell_type": "code",
      "source": [
        "df = pd.read_csv(file_name)"
      ],
      "metadata": {
        "id": "I_uZfUSIhyJL"
      },
      "execution_count": null,
      "outputs": []
    },
    {
      "cell_type": "code",
      "source": [
        "df = pd.read_csv(filepath, header=None)\n",
        "print(df.head(10))"
      ],
      "metadata": {
        "colab": {
          "base_uri": "https://localhost:8080/"
        },
        "id": "VIGxVjIWiBg2",
        "outputId": "1aa52160-0791-4432-b909-4da37a14c3af"
      },
      "execution_count": null,
      "outputs": [
        {
          "output_type": "stream",
          "name": "stdout",
          "text": [
            "    0  1       2  3  4  5            6\n",
            "0  19  1  27.900  0  1  3  16884.92400\n",
            "1  18  2  33.770  1  0  4   1725.55230\n",
            "2  28  2  33.000  3  0  4   4449.46200\n",
            "3  33  2  22.705  0  0  1  21984.47061\n",
            "4  32  2  28.880  0  0  1   3866.85520\n",
            "5  31  1  25.740  0  ?  4   3756.62160\n",
            "6  46  1  33.440  1  0  4   8240.58960\n",
            "7  37  1  27.740  3  0  1   7281.50560\n",
            "8  37  2  29.830  2  0  2   6406.41070\n",
            "9  60  1  25.840  0  0  1  28923.13692\n"
          ]
        }
      ]
    },
    {
      "cell_type": "code",
      "source": [
        "headers = [\"age\", \"gender\", \"bmi\", \"no_of_children\", \"smoker\", \"region\", \"charges\"]\n",
        "df.columns = headers"
      ],
      "metadata": {
        "id": "33byl18GiddR"
      },
      "execution_count": null,
      "outputs": []
    },
    {
      "cell_type": "code",
      "source": [
        "df.replace('?', np.nan, inplace = True)"
      ],
      "metadata": {
        "id": "XkpeT-hcihey"
      },
      "execution_count": null,
      "outputs": []
    },
    {
      "cell_type": "markdown",
      "source": [
        "**Task 2 : Data Wrangling**"
      ],
      "metadata": {
        "id": "xKV_4H3vimml"
      }
    },
    {
      "cell_type": "code",
      "source": [
        "print(df.info())"
      ],
      "metadata": {
        "colab": {
          "base_uri": "https://localhost:8080/"
        },
        "id": "GADHsNYOivSk",
        "outputId": "270d4758-e01d-41d7-a953-68c742a548df"
      },
      "execution_count": null,
      "outputs": [
        {
          "output_type": "stream",
          "name": "stdout",
          "text": [
            "<class 'pandas.core.frame.DataFrame'>\n",
            "RangeIndex: 2772 entries, 0 to 2771\n",
            "Data columns (total 7 columns):\n",
            " #   Column          Non-Null Count  Dtype  \n",
            "---  ------          --------------  -----  \n",
            " 0   age             2768 non-null   object \n",
            " 1   gender          2772 non-null   int64  \n",
            " 2   bmi             2772 non-null   float64\n",
            " 3   no_of_children  2772 non-null   int64  \n",
            " 4   smoker          2765 non-null   object \n",
            " 5   region          2772 non-null   int64  \n",
            " 6   charges         2772 non-null   float64\n",
            "dtypes: float64(2), int64(3), object(2)\n",
            "memory usage: 151.7+ KB\n",
            "None\n"
          ]
        }
      ]
    },
    {
      "cell_type": "markdown",
      "source": [
        "Handle missing data:\n",
        "\n",
        "For continuous attributes (e.g., age), replace missing values with the mean.\n",
        "For categorical attributes (e.g., smoker), replace missing values with the most frequent value.\n",
        "Update the data types of the respective columns.\n",
        "Verify the update using df.info()."
      ],
      "metadata": {
        "id": "9CYFAtt7i4bG"
      }
    },
    {
      "cell_type": "code",
      "source": [
        "# smoker is a categorical attribute, replace with most frequent entry\n",
        "is_smoker = df['smoker'].value_counts().idxmax()\n",
        "df[\"smoker\"].replace(np.nan, is_smoker, inplace=True)\n",
        "\n",
        "# age is a continuous variable, replace with mean age\n",
        "mean_age = df['age'].astype('float').mean(axis=0)\n",
        "df[\"age\"].replace(np.nan, mean_age, inplace=True)\n",
        "\n",
        "# Update data types\n",
        "df[[\"age\",\"smoker\"]] = df[[\"age\",\"smoker\"]].astype(\"int\")\n",
        "\n",
        "print(df.info())"
      ],
      "metadata": {
        "colab": {
          "base_uri": "https://localhost:8080/"
        },
        "id": "wDRdvQwKjDtG",
        "outputId": "3122a8d1-c410-4c4f-9a67-b022d0084a51"
      },
      "execution_count": null,
      "outputs": [
        {
          "output_type": "stream",
          "name": "stdout",
          "text": [
            "<class 'pandas.core.frame.DataFrame'>\n",
            "RangeIndex: 2772 entries, 0 to 2771\n",
            "Data columns (total 7 columns):\n",
            " #   Column          Non-Null Count  Dtype  \n",
            "---  ------          --------------  -----  \n",
            " 0   age             2772 non-null   int64  \n",
            " 1   gender          2772 non-null   int64  \n",
            " 2   bmi             2772 non-null   float64\n",
            " 3   no_of_children  2772 non-null   int64  \n",
            " 4   smoker          2772 non-null   int64  \n",
            " 5   region          2772 non-null   int64  \n",
            " 6   charges         2772 non-null   float64\n",
            "dtypes: float64(2), int64(5)\n",
            "memory usage: 151.7 KB\n",
            "None\n"
          ]
        }
      ]
    },
    {
      "cell_type": "markdown",
      "source": [
        "Also note, that the charges column has values which are more than 2 decimal places long. Update the charges column such that all values are rounded to nearest 2 decimal places. Verify conversion by printing the first 5 values of the updated dataframe."
      ],
      "metadata": {
        "id": "Cu4BmIq2jHzM"
      }
    },
    {
      "cell_type": "code",
      "source": [
        "df[[\"charges\"]] = np.round(df[[\"charges\"]],2)\n",
        "print(df.head())"
      ],
      "metadata": {
        "colab": {
          "base_uri": "https://localhost:8080/"
        },
        "id": "LFuy3uDAjLvH",
        "outputId": "51cc81b3-353b-4093-c254-d459a03906a6"
      },
      "execution_count": null,
      "outputs": [
        {
          "output_type": "stream",
          "name": "stdout",
          "text": [
            "   age  gender     bmi  no_of_children  smoker  region   charges\n",
            "0   19       1  27.900               0       1       3  16884.92\n",
            "1   18       2  33.770               1       0       4   1725.55\n",
            "2   28       2  33.000               3       0       4   4449.46\n",
            "3   33       2  22.705               0       0       1  21984.47\n",
            "4   32       2  28.880               0       0       1   3866.86\n"
          ]
        }
      ]
    },
    {
      "cell_type": "markdown",
      "source": [
        "**Task 3 : Exploratory Data Analysis (EDA)**"
      ],
      "metadata": {
        "id": "t0aDTDSnjOye"
      }
    },
    {
      "cell_type": "code",
      "source": [
        "sns.regplot(x=\"bmi\", y=\"charges\", data=df, line_kws={\"color\": \"red\"})\n",
        "plt.ylim(0,)"
      ],
      "metadata": {
        "colab": {
          "base_uri": "https://localhost:8080/",
          "height": 466
        },
        "id": "ZoL6MFomjTx1",
        "outputId": "6eb40a40-6969-44e5-f00a-971b049e905f"
      },
      "execution_count": null,
      "outputs": [
        {
          "output_type": "execute_result",
          "data": {
            "text/plain": [
              "(0.0, 66902.85800000001)"
            ]
          },
          "metadata": {},
          "execution_count": 11
        },
        {
          "output_type": "display_data",
          "data": {
            "text/plain": [
              "<Figure size 640x480 with 1 Axes>"
            ],
            "image/png": "[encoded data removed]"
          },
          "metadata": {}
        }
      ]
    },
    {
      "cell_type": "code",
      "source": [
        "sns.boxplot(x=\"smoker\", y=\"charges\", data=df)"
      ],
      "metadata": {
        "colab": {
          "base_uri": "https://localhost:8080/",
          "height": 466
        },
        "id": "DhNwY1sFjXiL",
        "outputId": "da5f1916-79d9-4218-b02b-fbb4a5c8b447"
      },
      "execution_count": null,
      "outputs": [
        {
          "output_type": "execute_result",
          "data": {
            "text/plain": [
              "<Axes: xlabel='smoker', ylabel='charges'>"
            ]
          },
          "metadata": {},
          "execution_count": 12
        },
        {
          "output_type": "display_data",
          "data": {
            "text/plain": [
              "<Figure size 640x480 with 1 Axes>"
            ],
            "image/png": "[encoded data removed]"
          },
          "metadata": {}
        }
      ]
    },
    {
      "cell_type": "code",
      "source": [
        "print(df.corr())"
      ],
      "metadata": {
        "colab": {
          "base_uri": "https://localhost:8080/"
        },
        "id": "2R0dSa4NjbLB",
        "outputId": "a7fb386c-eadc-405e-cb5e-f1acfbae3b00"
      },
      "execution_count": null,
      "outputs": [
        {
          "output_type": "stream",
          "name": "stdout",
          "text": [
            "                     age    gender       bmi  no_of_children    smoker  \\\n",
            "age             1.000000 -0.026046  0.113048        0.037574 -0.023286   \n",
            "gender         -0.026046  1.000000  0.042924        0.016020  0.082326   \n",
            "bmi             0.113048  0.042924  1.000000       -0.001492  0.011489   \n",
            "no_of_children  0.037574  0.016020 -0.001492        1.000000  0.006362   \n",
            "smoker         -0.023286  0.082326  0.011489        0.006362  1.000000   \n",
            "region         -0.007167  0.022213  0.271119       -0.025717  0.054077   \n",
            "charges         0.298624  0.062837  0.199846        0.066442  0.788783   \n",
            "\n",
            "                  region   charges  \n",
            "age            -0.007167  0.298624  \n",
            "gender          0.022213  0.062837  \n",
            "bmi             0.271119  0.199846  \n",
            "no_of_children -0.025717  0.066442  \n",
            "smoker          0.054077  0.788783  \n",
            "region          1.000000  0.054058  \n",
            "charges         0.054058  1.000000  \n"
          ]
        }
      ]
    },
    {
      "cell_type": "markdown",
      "source": [
        "**Task 4 : Model Development**"
      ],
      "metadata": {
        "id": "VVcQrPjPjeoc"
      }
    },
    {
      "cell_type": "code",
      "source": [
        "X = df[['smoker']]\n",
        "Y = df['charges']\n",
        "lm = LinearRegression()\n",
        "lm.fit(X,Y)\n",
        "print(lm.score(X, Y))"
      ],
      "metadata": {
        "colab": {
          "base_uri": "https://localhost:8080/"
        },
        "id": "bxJD8z9djkBN",
        "outputId": "04b0c0c9-1b92-4a6e-d463-cb62e14d5546"
      },
      "execution_count": null,
      "outputs": [
        {
          "output_type": "stream",
          "name": "stdout",
          "text": [
            "0.6221791733924185\n"
          ]
        }
      ]
    },
    {
      "cell_type": "code",
      "source": [
        "# definition of Y and lm remain same as used in last cell.\n",
        "Z = df[[\"age\", \"gender\", \"bmi\", \"no_of_children\", \"smoker\", \"region\"]]\n",
        "lm.fit(Z,Y)\n",
        "print(lm.score(Z, Y))"
      ],
      "metadata": {
        "colab": {
          "base_uri": "https://localhost:8080/"
        },
        "id": "GVEpayYzjqZF",
        "outputId": "848a7885-4d2e-4194-ad7d-d908dc5a080f"
      },
      "execution_count": null,
      "outputs": [
        {
          "output_type": "stream",
          "name": "stdout",
          "text": [
            "0.7504083820289634\n"
          ]
        }
      ]
    },
    {
      "cell_type": "code",
      "source": [
        "Input=[('scale',StandardScaler()), ('polynomial', PolynomialFeatures(include_bias=False)), ('model', LinearRegression())]\n",
        "pipe=Pipeline(Input)\n",
        "Z = Z.astype(float)\n",
        "pipe.fit(Z,Y)\n",
        "ypipe=pipe.predict(Z)\n",
        "print(r2_score(Y,ypipe))"
      ],
      "metadata": {
        "colab": {
          "base_uri": "https://localhost:8080/"
        },
        "id": "WzT1A-xtjveU",
        "outputId": "ac3e062c-d5da-4648-ab6e-33d67a438493"
      },
      "execution_count": null,
      "outputs": [
        {
          "output_type": "stream",
          "name": "stdout",
          "text": [
            "0.8452541227959774\n"
          ]
        }
      ]
    },
    {
      "cell_type": "markdown",
      "source": [
        "**Task 5 : Model Refinement**\n",
        "Split the data into training and testing subsets, assuming that 20% of the data will be reserved for testing."
      ],
      "metadata": {
        "id": "Od-jHUiNjyOB"
      }
    },
    {
      "cell_type": "code",
      "source": [
        "# Z and Y hold same values as in previous cells\n",
        "x_train, x_test, y_train, y_test = train_test_split(Z, Y, test_size=0.2, random_state=1)"
      ],
      "metadata": {
        "id": "fbe_VsnOj5cW"
      },
      "execution_count": null,
      "outputs": []
    },
    {
      "cell_type": "markdown",
      "source": [
        "Initialize a Ridge regressor that used hyperparameter $ \\alpha = 0.1 $. Fit the model using training data data subset. Print the $ R^2 $ score for the testing data."
      ],
      "metadata": {
        "id": "aQcMkJ9oj7xg"
      }
    },
    {
      "cell_type": "code",
      "source": [
        "# x_train, x_test, y_train, y_test hold same values as in previous cells\n",
        "RidgeModel=Ridge(alpha=0.1)\n",
        "RidgeModel.fit(x_train, y_train)\n",
        "yhat = RidgeModel.predict(x_test)\n",
        "print(r2_score(y_test,yhat))"
      ],
      "metadata": {
        "id": "4bwGKQYFj_qQ",
        "outputId": "71021310-e407-4b6c-be45-bd697e585c9a",
        "colab": {
          "base_uri": "https://localhost:8080/"
        }
      },
      "execution_count": null,
      "outputs": [
        {
          "output_type": "stream",
          "name": "stdout",
          "text": [
            "0.6760807731582404\n"
          ]
        }
      ]
    },
    {
      "cell_type": "code",
      "source": [
        "# x_train, x_test, y_train, y_test hold same values as in previous cells\n",
        "pr = PolynomialFeatures(degree=2)\n",
        "x_train_pr = pr.fit_transform(x_train)\n",
        "x_test_pr = pr.fit_transform(x_test)\n",
        "RidgeModel.fit(x_train_pr, y_train)\n",
        "y_hat = RidgeModel.predict(x_test_pr)\n",
        "print(r2_score(y_test,y_hat))"
      ],
      "metadata": {
        "id": "kNm4veoCkDYF",
        "outputId": "a94e6e14-70ad-4583-8f0a-05ec38c07306",
        "colab": {
          "base_uri": "https://localhost:8080/"
        }
      },
      "execution_count": null,
      "outputs": [
        {
          "output_type": "stream",
          "name": "stdout",
          "text": [
            "0.7835631107608152\n"
          ]
        }
      ]
    }
  ]
}